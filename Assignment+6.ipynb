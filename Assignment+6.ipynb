{
 "cells": [
  {
   "cell_type": "code",
   "execution_count": 2,
   "metadata": {},
   "outputs": [],
   "source": [
    " import networkx as nx\n",
    "G1 = nx.read_gml('friendships.gml')"
   ]
  },
  {
   "cell_type": "code",
   "execution_count": 3,
   "metadata": {},
   "outputs": [],
   "source": [
    " #%matplotlib notebook\n",
    "#import matplotlib.pyplot as plt\n",
    "#nx.draw_networkx(G1)"
   ]
  },
  {
   "cell_type": "code",
   "execution_count": 4,
   "metadata": {},
   "outputs": [
    {
     "data": {
      "text/plain": [
       "(0.0026501766784452294, 0.2654784240150094, 7.142902633244772e-05)"
      ]
     },
     "execution_count": 4,
     "metadata": {},
     "output_type": "execute_result"
    }
   ],
   "source": [
    "def answer_one():\n",
    "    degree_centrality = nx.degree_centrality(G1)[100]\n",
    "    closeness_centrality = nx.closeness_centrality(G1)[100]\n",
    "    between_centrality = nx.betweenness_centrality(G1, endpoints=False, normalized=True)[100]\n",
    "    return degree_centrality, closeness_centrality, between_centrality\n",
    "answer_one()\n"
   ]
  },
  {
   "cell_type": "code",
   "execution_count": 6,
   "metadata": {},
   "outputs": [
    {
     "data": {
      "text/plain": [
       "105"
      ]
     },
     "execution_count": 6,
     "metadata": {},
     "output_type": "execute_result"
    }
   ],
   "source": [
    "def answer_two():\n",
    "    degree = nx.degree_centrality(G1)\n",
    "    return max(degree.keys(), key=lambda x:degree[x])\n",
    "answer_two()"
   ]
  },
  {
   "cell_type": "code",
   "execution_count": 7,
   "metadata": {},
   "outputs": [
    {
     "data": {
      "text/plain": [
       "23"
      ]
     },
     "execution_count": 7,
     "metadata": {},
     "output_type": "execute_result"
    }
   ],
   "source": [
    "def answer_three():\n",
    "    closeness = nx.closeness_centrality(G1)\n",
    "    return max(closeness.keys(), key=lambda x:closeness[x])\n",
    "answer_three()"
   ]
  },
  {
   "cell_type": "code",
   "execution_count": 8,
   "metadata": {},
   "outputs": [
    {
     "data": {
      "text/plain": [
       "333"
      ]
     },
     "execution_count": 8,
     "metadata": {},
     "output_type": "execute_result"
    }
   ],
   "source": [
    "def answer_four():\n",
    "    betweeness = nx.betweenness_centrality(G1)\n",
    "    return max(betweeness.keys(), key=lambda x:betweeness[x])\n",
    "answer_four()\n"
   ]
  },
  {
   "cell_type": "code",
   "execution_count": null,
   "metadata": {},
   "outputs": [],
   "source": []
  }
 ],
 "metadata": {
  "kernelspec": {
   "display_name": "Python 3",
   "language": "python",
   "name": "python3"
  },
  "language_info": {
   "codemirror_mode": {
    "name": "ipython",
    "version": 3
   },
   "file_extension": ".py",
   "mimetype": "text/x-python",
   "name": "python",
   "nbconvert_exporter": "python",
   "pygments_lexer": "ipython3",
   "version": "3.7.3"
  }
 },
 "nbformat": 4,
 "nbformat_minor": 2
}
